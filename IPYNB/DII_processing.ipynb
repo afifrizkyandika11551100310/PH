{
 "cells": [
  {
   "cell_type": "code",
   "execution_count": 1,
   "id": "d7099a81-8885-4221-962f-8d159aefe765",
   "metadata": {
    "tags": []
   },
   "outputs": [],
   "source": [
    "import pandas as pd\n",
    "import numpy as np"
   ]
  },
  {
   "cell_type": "code",
   "execution_count": 2,
   "id": "f2f29a68-5aa5-4eb7-a604-56eca7b32497",
   "metadata": {
    "tags": []
   },
   "outputs": [
    {
     "data": {
      "text/html": [
       "<div>\n",
       "<style scoped>\n",
       "    .dataframe tbody tr th:only-of-type {\n",
       "        vertical-align: middle;\n",
       "    }\n",
       "\n",
       "    .dataframe tbody tr th {\n",
       "        vertical-align: top;\n",
       "    }\n",
       "\n",
       "    .dataframe thead th {\n",
       "        text-align: right;\n",
       "    }\n",
       "</style>\n",
       "<table border=\"1\" class=\"dataframe\">\n",
       "  <thead>\n",
       "    <tr style=\"text-align: right;\">\n",
       "      <th></th>\n",
       "      <th>Month</th>\n",
       "      <th>Outlet.Code</th>\n",
       "      <th>Actual.Freezer.Capacity</th>\n",
       "      <th>Potential.Freezer.Capacity</th>\n",
       "      <th>Variance.Capacity</th>\n",
       "      <th>FCV</th>\n",
       "      <th>DII</th>\n",
       "      <th>DII STANDARD</th>\n",
       "    </tr>\n",
       "  </thead>\n",
       "  <tbody>\n",
       "    <tr>\n",
       "      <th>0</th>\n",
       "      <td>2023-01-01</td>\n",
       "      <td>B001</td>\n",
       "      <td>2.365933</td>\n",
       "      <td>1.40868</td>\n",
       "      <td>0.957253</td>\n",
       "      <td>0.014000</td>\n",
       "      <td>12.000000</td>\n",
       "      <td>16.0</td>\n",
       "    </tr>\n",
       "    <tr>\n",
       "      <th>1</th>\n",
       "      <td>2023-02-01</td>\n",
       "      <td>B001</td>\n",
       "      <td>1.855530</td>\n",
       "      <td>1.40868</td>\n",
       "      <td>0.446850</td>\n",
       "      <td>0.009800</td>\n",
       "      <td>11.000000</td>\n",
       "      <td>16.0</td>\n",
       "    </tr>\n",
       "    <tr>\n",
       "      <th>2</th>\n",
       "      <td>2023-03-01</td>\n",
       "      <td>B001</td>\n",
       "      <td>2.671546</td>\n",
       "      <td>1.40868</td>\n",
       "      <td>1.262866</td>\n",
       "      <td>0.003100</td>\n",
       "      <td>15.000000</td>\n",
       "      <td>16.0</td>\n",
       "    </tr>\n",
       "    <tr>\n",
       "      <th>3</th>\n",
       "      <td>2023-04-01</td>\n",
       "      <td>B001</td>\n",
       "      <td>2.117779</td>\n",
       "      <td>1.40868</td>\n",
       "      <td>0.709099</td>\n",
       "      <td>0.003900</td>\n",
       "      <td>12.000000</td>\n",
       "      <td>16.0</td>\n",
       "    </tr>\n",
       "    <tr>\n",
       "      <th>4</th>\n",
       "      <td>2023-05-01</td>\n",
       "      <td>B001</td>\n",
       "      <td>2.254381</td>\n",
       "      <td>1.40868</td>\n",
       "      <td>0.845701</td>\n",
       "      <td>0.017524</td>\n",
       "      <td>10.229888</td>\n",
       "      <td>16.0</td>\n",
       "    </tr>\n",
       "  </tbody>\n",
       "</table>\n",
       "</div>"
      ],
      "text/plain": [
       "       Month Outlet.Code  Actual.Freezer.Capacity  Potential.Freezer.Capacity  \\\n",
       "0 2023-01-01        B001                 2.365933                     1.40868   \n",
       "1 2023-02-01        B001                 1.855530                     1.40868   \n",
       "2 2023-03-01        B001                 2.671546                     1.40868   \n",
       "3 2023-04-01        B001                 2.117779                     1.40868   \n",
       "4 2023-05-01        B001                 2.254381                     1.40868   \n",
       "\n",
       "   Variance.Capacity       FCV        DII  DII STANDARD  \n",
       "0           0.957253  0.014000  12.000000          16.0  \n",
       "1           0.446850  0.009800  11.000000          16.0  \n",
       "2           1.262866  0.003100  15.000000          16.0  \n",
       "3           0.709099  0.003900  12.000000          16.0  \n",
       "4           0.845701  0.017524  10.229888          16.0  "
      ]
     },
     "execution_count": 2,
     "metadata": {},
     "output_type": "execute_result"
    }
   ],
   "source": [
    "df = pd.read_excel('Dataset/Book3.xlsx')\n",
    "df.head()"
   ]
  },
  {
   "cell_type": "code",
   "execution_count": 3,
   "id": "017b70cf-dc12-4e99-818a-ee363c03e1d8",
   "metadata": {
    "tags": []
   },
   "outputs": [
    {
     "data": {
      "text/plain": [
       "(8578, 8)"
      ]
     },
     "execution_count": 3,
     "metadata": {},
     "output_type": "execute_result"
    }
   ],
   "source": [
    "df.shape"
   ]
  },
  {
   "cell_type": "code",
   "execution_count": 4,
   "id": "9f818509-28c1-4539-a989-2288aeb7a32a",
   "metadata": {
    "tags": []
   },
   "outputs": [
    {
     "data": {
      "text/plain": [
       "Month                         datetime64[ns]\n",
       "Outlet.Code                           object\n",
       "Actual.Freezer.Capacity              float64\n",
       "Potential.Freezer.Capacity           float64\n",
       "Variance.Capacity                    float64\n",
       "FCV                                  float64\n",
       "DII                                  float64\n",
       "DII STANDARD                         float64\n",
       "dtype: object"
      ]
     },
     "execution_count": 4,
     "metadata": {},
     "output_type": "execute_result"
    }
   ],
   "source": [
    "df.dtypes"
   ]
  },
  {
   "cell_type": "code",
   "execution_count": 5,
   "id": "675af142-ba60-4008-981c-f01487caad69",
   "metadata": {
    "tags": []
   },
   "outputs": [
    {
     "data": {
      "text/plain": [
       "2024-01-01    616\n",
       "2023-01-01    615\n",
       "2023-12-01    615\n",
       "2023-02-01    614\n",
       "2023-03-01    613\n",
       "2023-04-01    613\n",
       "2023-05-01    613\n",
       "2023-06-01    612\n",
       "2023-11-01    612\n",
       "2023-07-01    611\n",
       "2023-08-01    611\n",
       "2023-09-01    611\n",
       "2023-10-01    611\n",
       "2024-02-01    611\n",
       "Name: Month, dtype: int64"
      ]
     },
     "execution_count": 5,
     "metadata": {},
     "output_type": "execute_result"
    }
   ],
   "source": [
    "df['Month'].value_counts()"
   ]
  },
  {
   "cell_type": "code",
   "execution_count": 6,
   "id": "693fc60e-6969-4deb-b508-988ce0fbb010",
   "metadata": {
    "tags": []
   },
   "outputs": [
    {
     "data": {
      "text/html": [
       "<div>\n",
       "<style scoped>\n",
       "    .dataframe tbody tr th:only-of-type {\n",
       "        vertical-align: middle;\n",
       "    }\n",
       "\n",
       "    .dataframe tbody tr th {\n",
       "        vertical-align: top;\n",
       "    }\n",
       "\n",
       "    .dataframe thead th {\n",
       "        text-align: right;\n",
       "    }\n",
       "</style>\n",
       "<table border=\"1\" class=\"dataframe\">\n",
       "  <thead>\n",
       "    <tr style=\"text-align: right;\">\n",
       "      <th></th>\n",
       "      <th>Month</th>\n",
       "      <th>Outlet.Code</th>\n",
       "      <th>Actual.Freezer.Capacity</th>\n",
       "      <th>Potential.Freezer.Capacity</th>\n",
       "      <th>Variance.Capacity</th>\n",
       "      <th>FCV</th>\n",
       "      <th>DII</th>\n",
       "      <th>DII STANDARD</th>\n",
       "    </tr>\n",
       "  </thead>\n",
       "  <tbody>\n",
       "    <tr>\n",
       "      <th>152</th>\n",
       "      <td>2023-07-01</td>\n",
       "      <td>B012</td>\n",
       "      <td>1.949133</td>\n",
       "      <td>0.000000</td>\n",
       "      <td>1.949133</td>\n",
       "      <td>0.002513</td>\n",
       "      <td>10.076532</td>\n",
       "      <td>NaN</td>\n",
       "    </tr>\n",
       "    <tr>\n",
       "      <th>153</th>\n",
       "      <td>2023-08-01</td>\n",
       "      <td>B012</td>\n",
       "      <td>1.748604</td>\n",
       "      <td>0.000000</td>\n",
       "      <td>1.748604</td>\n",
       "      <td>0.002585</td>\n",
       "      <td>10.529257</td>\n",
       "      <td>NaN</td>\n",
       "    </tr>\n",
       "    <tr>\n",
       "      <th>154</th>\n",
       "      <td>2023-09-01</td>\n",
       "      <td>B012</td>\n",
       "      <td>1.568459</td>\n",
       "      <td>0.000000</td>\n",
       "      <td>1.568459</td>\n",
       "      <td>0.003023</td>\n",
       "      <td>10.442183</td>\n",
       "      <td>NaN</td>\n",
       "    </tr>\n",
       "    <tr>\n",
       "      <th>155</th>\n",
       "      <td>2023-10-01</td>\n",
       "      <td>B012</td>\n",
       "      <td>1.907291</td>\n",
       "      <td>3.545600</td>\n",
       "      <td>-1.638309</td>\n",
       "      <td>0.010487</td>\n",
       "      <td>13.083209</td>\n",
       "      <td>NaN</td>\n",
       "    </tr>\n",
       "    <tr>\n",
       "      <th>156</th>\n",
       "      <td>2023-11-01</td>\n",
       "      <td>B012</td>\n",
       "      <td>1.332042</td>\n",
       "      <td>3.545600</td>\n",
       "      <td>-2.213558</td>\n",
       "      <td>0.009728</td>\n",
       "      <td>14.945366</td>\n",
       "      <td>NaN</td>\n",
       "    </tr>\n",
       "    <tr>\n",
       "      <th>...</th>\n",
       "      <td>...</td>\n",
       "      <td>...</td>\n",
       "      <td>...</td>\n",
       "      <td>...</td>\n",
       "      <td>...</td>\n",
       "      <td>...</td>\n",
       "      <td>...</td>\n",
       "      <td>...</td>\n",
       "    </tr>\n",
       "    <tr>\n",
       "      <th>7155</th>\n",
       "      <td>2023-11-01</td>\n",
       "      <td>R338-old</td>\n",
       "      <td>1.829701</td>\n",
       "      <td>0.000000</td>\n",
       "      <td>0.000000</td>\n",
       "      <td>NaN</td>\n",
       "      <td>NaN</td>\n",
       "      <td>NaN</td>\n",
       "    </tr>\n",
       "    <tr>\n",
       "      <th>7903</th>\n",
       "      <td>2023-12-01</td>\n",
       "      <td>R397</td>\n",
       "      <td>12.100161</td>\n",
       "      <td>0.000000</td>\n",
       "      <td>0.000000</td>\n",
       "      <td>0.018962</td>\n",
       "      <td>52.962815</td>\n",
       "      <td>NaN</td>\n",
       "    </tr>\n",
       "    <tr>\n",
       "      <th>7904</th>\n",
       "      <td>2024-01-01</td>\n",
       "      <td>R397</td>\n",
       "      <td>9.864860</td>\n",
       "      <td>7.961422</td>\n",
       "      <td>1.903438</td>\n",
       "      <td>0.004056</td>\n",
       "      <td>41.062479</td>\n",
       "      <td>NaN</td>\n",
       "    </tr>\n",
       "    <tr>\n",
       "      <th>7905</th>\n",
       "      <td>2024-02-01</td>\n",
       "      <td>R397</td>\n",
       "      <td>6.520055</td>\n",
       "      <td>7.961422</td>\n",
       "      <td>-1.441367</td>\n",
       "      <td>0.005937</td>\n",
       "      <td>36.566252</td>\n",
       "      <td>NaN</td>\n",
       "    </tr>\n",
       "    <tr>\n",
       "      <th>8577</th>\n",
       "      <td>2024-02-01</td>\n",
       "      <td>c080</td>\n",
       "      <td>4.211452</td>\n",
       "      <td>10.829301</td>\n",
       "      <td>-6.617849</td>\n",
       "      <td>NaN</td>\n",
       "      <td>NaN</td>\n",
       "      <td>NaN</td>\n",
       "    </tr>\n",
       "  </tbody>\n",
       "</table>\n",
       "<p>136 rows × 8 columns</p>\n",
       "</div>"
      ],
      "text/plain": [
       "          Month Outlet.Code  Actual.Freezer.Capacity  \\\n",
       "152  2023-07-01        B012                 1.949133   \n",
       "153  2023-08-01        B012                 1.748604   \n",
       "154  2023-09-01        B012                 1.568459   \n",
       "155  2023-10-01        B012                 1.907291   \n",
       "156  2023-11-01        B012                 1.332042   \n",
       "...         ...         ...                      ...   \n",
       "7155 2023-11-01    R338-old                 1.829701   \n",
       "7903 2023-12-01        R397                12.100161   \n",
       "7904 2024-01-01        R397                 9.864860   \n",
       "7905 2024-02-01        R397                 6.520055   \n",
       "8577 2024-02-01        c080                 4.211452   \n",
       "\n",
       "      Potential.Freezer.Capacity  Variance.Capacity       FCV        DII  \\\n",
       "152                     0.000000           1.949133  0.002513  10.076532   \n",
       "153                     0.000000           1.748604  0.002585  10.529257   \n",
       "154                     0.000000           1.568459  0.003023  10.442183   \n",
       "155                     3.545600          -1.638309  0.010487  13.083209   \n",
       "156                     3.545600          -2.213558  0.009728  14.945366   \n",
       "...                          ...                ...       ...        ...   \n",
       "7155                    0.000000           0.000000       NaN        NaN   \n",
       "7903                    0.000000           0.000000  0.018962  52.962815   \n",
       "7904                    7.961422           1.903438  0.004056  41.062479   \n",
       "7905                    7.961422          -1.441367  0.005937  36.566252   \n",
       "8577                   10.829301          -6.617849       NaN        NaN   \n",
       "\n",
       "      DII STANDARD  \n",
       "152            NaN  \n",
       "153            NaN  \n",
       "154            NaN  \n",
       "155            NaN  \n",
       "156            NaN  \n",
       "...            ...  \n",
       "7155           NaN  \n",
       "7903           NaN  \n",
       "7904           NaN  \n",
       "7905           NaN  \n",
       "8577           NaN  \n",
       "\n",
       "[136 rows x 8 columns]"
      ]
     },
     "execution_count": 6,
     "metadata": {},
     "output_type": "execute_result"
    }
   ],
   "source": [
    "df[df['DII STANDARD'].isnull()]"
   ]
  },
  {
   "cell_type": "code",
   "execution_count": 7,
   "id": "5ab0e376-fa40-45f0-94ad-a3564f93bdfb",
   "metadata": {
    "tags": []
   },
   "outputs": [],
   "source": [
    "df['DII STANDARD'] = df['DII STANDARD'].fillna(0)"
   ]
  },
  {
   "cell_type": "code",
   "execution_count": 8,
   "id": "967bc295-c78a-49b7-9dbb-d7317c9bee96",
   "metadata": {
    "tags": []
   },
   "outputs": [],
   "source": [
    "df['DII'] = df['DII'].replace(np.nan, 0)"
   ]
  },
  {
   "cell_type": "code",
   "execution_count": 9,
   "id": "86d6cfaa-9839-49d5-a82e-0ab94ee3047e",
   "metadata": {
    "tags": []
   },
   "outputs": [],
   "source": [
    "df['FCV'] = df['FCV'].replace(np.nan, 0)"
   ]
  },
  {
   "cell_type": "code",
   "execution_count": 10,
   "id": "0c5a51d8-eec7-4fd8-9ab2-bf17a6fe0df4",
   "metadata": {
    "tags": []
   },
   "outputs": [
    {
     "data": {
      "text/plain": [
       "0"
      ]
     },
     "execution_count": 10,
     "metadata": {},
     "output_type": "execute_result"
    }
   ],
   "source": [
    "df.isnull().sum().sum()"
   ]
  },
  {
   "cell_type": "code",
   "execution_count": 11,
   "id": "3f3ac7a3-279c-49f0-86a4-ac491e3d590c",
   "metadata": {
    "tags": []
   },
   "outputs": [],
   "source": [
    "df['DII'] = df['DII'].astype('int64')\n",
    "df['DII STANDARD'] = df['DII STANDARD'].astype('int64')"
   ]
  },
  {
   "cell_type": "code",
   "execution_count": 12,
   "id": "c4135c10-5808-41c4-bff4-d4b79658d932",
   "metadata": {
    "tags": []
   },
   "outputs": [
    {
     "data": {
      "text/html": [
       "<div>\n",
       "<style scoped>\n",
       "    .dataframe tbody tr th:only-of-type {\n",
       "        vertical-align: middle;\n",
       "    }\n",
       "\n",
       "    .dataframe tbody tr th {\n",
       "        vertical-align: top;\n",
       "    }\n",
       "\n",
       "    .dataframe thead th {\n",
       "        text-align: right;\n",
       "    }\n",
       "</style>\n",
       "<table border=\"1\" class=\"dataframe\">\n",
       "  <thead>\n",
       "    <tr style=\"text-align: right;\">\n",
       "      <th></th>\n",
       "      <th>Month</th>\n",
       "      <th>Outlet.Code</th>\n",
       "      <th>Actual.Freezer.Capacity</th>\n",
       "      <th>Potential.Freezer.Capacity</th>\n",
       "      <th>Variance.Capacity</th>\n",
       "      <th>FCV</th>\n",
       "      <th>DII</th>\n",
       "      <th>DII STANDARD</th>\n",
       "    </tr>\n",
       "  </thead>\n",
       "  <tbody>\n",
       "    <tr>\n",
       "      <th>0</th>\n",
       "      <td>2023-01-01</td>\n",
       "      <td>B001</td>\n",
       "      <td>2.365933</td>\n",
       "      <td>1.40868</td>\n",
       "      <td>0.957253</td>\n",
       "      <td>0.014000</td>\n",
       "      <td>12</td>\n",
       "      <td>16</td>\n",
       "    </tr>\n",
       "    <tr>\n",
       "      <th>1</th>\n",
       "      <td>2023-02-01</td>\n",
       "      <td>B001</td>\n",
       "      <td>1.855530</td>\n",
       "      <td>1.40868</td>\n",
       "      <td>0.446850</td>\n",
       "      <td>0.009800</td>\n",
       "      <td>11</td>\n",
       "      <td>16</td>\n",
       "    </tr>\n",
       "    <tr>\n",
       "      <th>2</th>\n",
       "      <td>2023-03-01</td>\n",
       "      <td>B001</td>\n",
       "      <td>2.671546</td>\n",
       "      <td>1.40868</td>\n",
       "      <td>1.262866</td>\n",
       "      <td>0.003100</td>\n",
       "      <td>15</td>\n",
       "      <td>16</td>\n",
       "    </tr>\n",
       "    <tr>\n",
       "      <th>3</th>\n",
       "      <td>2023-04-01</td>\n",
       "      <td>B001</td>\n",
       "      <td>2.117779</td>\n",
       "      <td>1.40868</td>\n",
       "      <td>0.709099</td>\n",
       "      <td>0.003900</td>\n",
       "      <td>12</td>\n",
       "      <td>16</td>\n",
       "    </tr>\n",
       "    <tr>\n",
       "      <th>4</th>\n",
       "      <td>2023-05-01</td>\n",
       "      <td>B001</td>\n",
       "      <td>2.254381</td>\n",
       "      <td>1.40868</td>\n",
       "      <td>0.845701</td>\n",
       "      <td>0.017524</td>\n",
       "      <td>10</td>\n",
       "      <td>16</td>\n",
       "    </tr>\n",
       "  </tbody>\n",
       "</table>\n",
       "</div>"
      ],
      "text/plain": [
       "       Month Outlet.Code  Actual.Freezer.Capacity  Potential.Freezer.Capacity  \\\n",
       "0 2023-01-01        B001                 2.365933                     1.40868   \n",
       "1 2023-02-01        B001                 1.855530                     1.40868   \n",
       "2 2023-03-01        B001                 2.671546                     1.40868   \n",
       "3 2023-04-01        B001                 2.117779                     1.40868   \n",
       "4 2023-05-01        B001                 2.254381                     1.40868   \n",
       "\n",
       "   Variance.Capacity       FCV  DII  DII STANDARD  \n",
       "0           0.957253  0.014000   12            16  \n",
       "1           0.446850  0.009800   11            16  \n",
       "2           1.262866  0.003100   15            16  \n",
       "3           0.709099  0.003900   12            16  \n",
       "4           0.845701  0.017524   10            16  "
      ]
     },
     "execution_count": 12,
     "metadata": {},
     "output_type": "execute_result"
    }
   ],
   "source": [
    "df.head()"
   ]
  },
  {
   "cell_type": "code",
   "execution_count": 13,
   "id": "42c62a40-6707-4c29-9b16-027de69ac6ec",
   "metadata": {
    "tags": []
   },
   "outputs": [
    {
     "data": {
      "text/html": [
       "<div>\n",
       "<style scoped>\n",
       "    .dataframe tbody tr th:only-of-type {\n",
       "        vertical-align: middle;\n",
       "    }\n",
       "\n",
       "    .dataframe tbody tr th {\n",
       "        vertical-align: top;\n",
       "    }\n",
       "\n",
       "    .dataframe thead th {\n",
       "        text-align: right;\n",
       "    }\n",
       "</style>\n",
       "<table border=\"1\" class=\"dataframe\">\n",
       "  <thead>\n",
       "    <tr style=\"text-align: right;\">\n",
       "      <th></th>\n",
       "      <th>Month</th>\n",
       "      <th>Outlet.Code</th>\n",
       "      <th>Actual.Freezer.Capacity</th>\n",
       "      <th>Potential.Freezer.Capacity</th>\n",
       "      <th>Variance.Capacity</th>\n",
       "      <th>FCV</th>\n",
       "      <th>DII</th>\n",
       "      <th>DII STANDARD</th>\n",
       "    </tr>\n",
       "  </thead>\n",
       "  <tbody>\n",
       "    <tr>\n",
       "      <th>8573</th>\n",
       "      <td>2023-11-01</td>\n",
       "      <td>S048</td>\n",
       "      <td>1.206770</td>\n",
       "      <td>3.073589</td>\n",
       "      <td>-1.866819</td>\n",
       "      <td>0.018100</td>\n",
       "      <td>54</td>\n",
       "      <td>16</td>\n",
       "    </tr>\n",
       "    <tr>\n",
       "      <th>8574</th>\n",
       "      <td>2023-12-01</td>\n",
       "      <td>S048</td>\n",
       "      <td>1.140021</td>\n",
       "      <td>3.073589</td>\n",
       "      <td>-1.933569</td>\n",
       "      <td>0.018111</td>\n",
       "      <td>32</td>\n",
       "      <td>16</td>\n",
       "    </tr>\n",
       "    <tr>\n",
       "      <th>8575</th>\n",
       "      <td>2024-01-01</td>\n",
       "      <td>S048</td>\n",
       "      <td>0.790404</td>\n",
       "      <td>3.073589</td>\n",
       "      <td>-2.283186</td>\n",
       "      <td>0.015330</td>\n",
       "      <td>32</td>\n",
       "      <td>16</td>\n",
       "    </tr>\n",
       "    <tr>\n",
       "      <th>8576</th>\n",
       "      <td>2024-02-01</td>\n",
       "      <td>S048</td>\n",
       "      <td>0.755451</td>\n",
       "      <td>3.073589</td>\n",
       "      <td>-2.318138</td>\n",
       "      <td>0.011832</td>\n",
       "      <td>31</td>\n",
       "      <td>16</td>\n",
       "    </tr>\n",
       "    <tr>\n",
       "      <th>8577</th>\n",
       "      <td>2024-02-01</td>\n",
       "      <td>c080</td>\n",
       "      <td>4.211452</td>\n",
       "      <td>10.829301</td>\n",
       "      <td>-6.617849</td>\n",
       "      <td>0.000000</td>\n",
       "      <td>0</td>\n",
       "      <td>0</td>\n",
       "    </tr>\n",
       "  </tbody>\n",
       "</table>\n",
       "</div>"
      ],
      "text/plain": [
       "          Month Outlet.Code  Actual.Freezer.Capacity  \\\n",
       "8573 2023-11-01        S048                 1.206770   \n",
       "8574 2023-12-01        S048                 1.140021   \n",
       "8575 2024-01-01        S048                 0.790404   \n",
       "8576 2024-02-01        S048                 0.755451   \n",
       "8577 2024-02-01        c080                 4.211452   \n",
       "\n",
       "      Potential.Freezer.Capacity  Variance.Capacity       FCV  DII  \\\n",
       "8573                    3.073589          -1.866819  0.018100   54   \n",
       "8574                    3.073589          -1.933569  0.018111   32   \n",
       "8575                    3.073589          -2.283186  0.015330   32   \n",
       "8576                    3.073589          -2.318138  0.011832   31   \n",
       "8577                   10.829301          -6.617849  0.000000    0   \n",
       "\n",
       "      DII STANDARD  \n",
       "8573            16  \n",
       "8574            16  \n",
       "8575            16  \n",
       "8576            16  \n",
       "8577             0  "
      ]
     },
     "execution_count": 13,
     "metadata": {},
     "output_type": "execute_result"
    }
   ],
   "source": [
    "df.tail()"
   ]
  },
  {
   "cell_type": "code",
   "execution_count": 14,
   "id": "4ebb2a5a-32aa-4f15-b6bc-5a2956f5226b",
   "metadata": {
    "tags": []
   },
   "outputs": [
    {
     "data": {
      "text/html": [
       "<div>\n",
       "<style scoped>\n",
       "    .dataframe tbody tr th:only-of-type {\n",
       "        vertical-align: middle;\n",
       "    }\n",
       "\n",
       "    .dataframe tbody tr th {\n",
       "        vertical-align: top;\n",
       "    }\n",
       "\n",
       "    .dataframe thead th {\n",
       "        text-align: right;\n",
       "    }\n",
       "</style>\n",
       "<table border=\"1\" class=\"dataframe\">\n",
       "  <thead>\n",
       "    <tr style=\"text-align: right;\">\n",
       "      <th></th>\n",
       "      <th>Month</th>\n",
       "      <th>Outlet.Code</th>\n",
       "      <th>Actual.Freezer.Capacity</th>\n",
       "      <th>Potential.Freezer.Capacity</th>\n",
       "      <th>Variance.Capacity</th>\n",
       "      <th>FCV</th>\n",
       "      <th>DII</th>\n",
       "      <th>DII STANDARD</th>\n",
       "    </tr>\n",
       "  </thead>\n",
       "  <tbody>\n",
       "  </tbody>\n",
       "</table>\n",
       "</div>"
      ],
      "text/plain": [
       "Empty DataFrame\n",
       "Columns: [Month, Outlet.Code, Actual.Freezer.Capacity, Potential.Freezer.Capacity, Variance.Capacity, FCV, DII, DII STANDARD]\n",
       "Index: []"
      ]
     },
     "execution_count": 14,
     "metadata": {},
     "output_type": "execute_result"
    }
   ],
   "source": [
    "df[df['DII STANDARD'].isnull()]"
   ]
  },
  {
   "cell_type": "code",
   "execution_count": 15,
   "id": "ff3d6eb5-1e74-4c71-96f7-6e7b2ad45baa",
   "metadata": {
    "tags": []
   },
   "outputs": [],
   "source": [
    "df.to_csv('Dataset_Bersih/data_dii_baru_ver11.csv', header = True, index = False)"
   ]
  },
  {
   "cell_type": "code",
   "execution_count": null,
   "id": "e6d24cc9-d964-4831-82f8-12d4a59b9582",
   "metadata": {},
   "outputs": [],
   "source": []
  }
 ],
 "metadata": {
  "kernelspec": {
   "display_name": "Python 3 (ipykernel)",
   "language": "python",
   "name": "python3"
  },
  "language_info": {
   "codemirror_mode": {
    "name": "ipython",
    "version": 3
   },
   "file_extension": ".py",
   "mimetype": "text/x-python",
   "name": "python",
   "nbconvert_exporter": "python",
   "pygments_lexer": "ipython3",
   "version": "3.11.4"
  }
 },
 "nbformat": 4,
 "nbformat_minor": 5
}
