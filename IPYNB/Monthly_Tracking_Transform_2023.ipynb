{
 "cells": [
  {
   "cell_type": "code",
   "execution_count": 1,
   "id": "8ddb2e10-cdc9-42fb-a86f-3833b91ad6e1",
   "metadata": {
    "tags": []
   },
   "outputs": [],
   "source": [
    "import pandas as pd"
   ]
  },
  {
   "cell_type": "code",
   "execution_count": 2,
   "id": "adf26d46-2575-4a4e-beab-a96718aab078",
   "metadata": {
    "tags": []
   },
   "outputs": [],
   "source": [
    "df_cashUC = pd.read_csv('Dataset/data_4_monthly/5_persiapan monthly track - cashUC2023.csv')\n",
    "df_employee = pd.read_csv('Dataset/data_4_monthly/6_persiapan monthly track - employee2023.csv')\n",
    "df_sales = pd.read_csv('Dataset/data_4_monthly/7_persiapan monthly track - Sales2023.csv')\n",
    "df_transaction = pd.read_csv('Dataset/data_4_monthly/8_persiapan monthly track - Transaction2023.csv')"
   ]
  },
  {
   "cell_type": "code",
   "execution_count": 7,
   "id": "be6f3a87-8048-4b31-b6f1-9b193ccc8159",
   "metadata": {
    "tags": []
   },
   "outputs": [],
   "source": [
    "df_cashUC.fillna(0, inplace = True)\n",
    "df_employee.fillna(0, inplace = True)\n",
    "df_sales.fillna(0, inplace = True)\n",
    "df_transaction.fillna(0,inplace = True)"
   ]
  },
  {
   "cell_type": "code",
   "execution_count": 13,
   "id": "afe7901d-9259-4440-a1a7-0978a7fedbaf",
   "metadata": {
    "tags": []
   },
   "outputs": [],
   "source": [
    "month_mapping = {\n",
    "    'Jan': 1,\n",
    "    'Feb': 2,\n",
    "    'Mar': 3,\n",
    "    'Apr': 4,\n",
    "    'May': 5,\n",
    "    'Jun': 6,\n",
    "    'Jul': 7,\n",
    "    'Aug': 8,\n",
    "    'Sep': 9,\n",
    "    'Oct': 10,\n",
    "    'Nov': 11,\n",
    "    'Dec': 12,\n",
    "}\n",
    "\n",
    "def transform_row_Cash_UC(row):\n",
    "    store_code = row['store_code']\n",
    "    month_values = {month_mapping[month]: value for month, value in row.items() if month != 'store_code'}\n",
    "    transformed_rows = [{'Year': '2023', 'Store_code': store_code, 'Month': month, 'Cash_UC': value} for month, value in month_values.items()]\n",
    "    return transformed_rows\n",
    "\n",
    "def transform_row_Employee(row):\n",
    "    store_code = row['store_code']\n",
    "    month_values = {month_mapping[month]: value for month, value in row.items() if month != 'store_code'}\n",
    "    transformed_rows = [{'Year': '2023', 'Store_code': store_code, 'Month': month, 'Employee': value} for month, value in month_values.items()]\n",
    "    return transformed_rows\n",
    "\n",
    "def transform_row_Sales(row):\n",
    "    store_code = row['store_code']\n",
    "    month_values = {month_mapping[month]: value for month, value in row.items() if month != 'store_code'}\n",
    "    transformed_rows = [{'Year': '2023', 'Store_code': store_code, 'Month': month, 'net_sales': value} for month, value in month_values.items()]\n",
    "    return transformed_rows\n",
    "\n",
    "def transform_row_transaction(row):\n",
    "    store_code = row['store_code']\n",
    "    month_values = {month_mapping[month]: value for month, value in row.items() if month != 'store_code'}\n",
    "    transformed_rows = [{'Year': '2023', 'Store_code': store_code, 'Month': month, 'transaction': value} for month, value in month_values.items()]\n",
    "    return transformed_rows"
   ]
  },
  {
   "cell_type": "code",
   "execution_count": 15,
   "id": "0231bb2d-09f3-46b6-8c32-96125479cb6f",
   "metadata": {
    "tags": []
   },
   "outputs": [],
   "source": [
    "df_transformed_cash_uc = pd.DataFrame(sum(df_cashUC.apply(transform_row_Cash_UC, axis=1), []))\n",
    "df_transform_employee = pd.DataFrame(sum(df_employee.apply(transform_row_Employee, axis=1), []))\n",
    "df_transform_sales = pd.DataFrame(sum(df_sales.apply(transform_row_Sales, axis=1), []))\n",
    "df_transform_transaction = pd.DataFrame(sum(df_transaction.apply(transform_row_transaction, axis = 1), []))"
   ]
  },
  {
   "cell_type": "code",
   "execution_count": 16,
   "id": "cb09faf6-6417-4a66-b0e2-07169a9c3e10",
   "metadata": {
    "tags": []
   },
   "outputs": [
    {
     "data": {
      "text/html": [
       "<div>\n",
       "<style scoped>\n",
       "    .dataframe tbody tr th:only-of-type {\n",
       "        vertical-align: middle;\n",
       "    }\n",
       "\n",
       "    .dataframe tbody tr th {\n",
       "        vertical-align: top;\n",
       "    }\n",
       "\n",
       "    .dataframe thead th {\n",
       "        text-align: right;\n",
       "    }\n",
       "</style>\n",
       "<table border=\"1\" class=\"dataframe\">\n",
       "  <thead>\n",
       "    <tr style=\"text-align: right;\">\n",
       "      <th></th>\n",
       "      <th>Year</th>\n",
       "      <th>Store_code</th>\n",
       "      <th>Month</th>\n",
       "      <th>Cash_UC</th>\n",
       "      <th>Employee</th>\n",
       "      <th>net_sales</th>\n",
       "      <th>transaction</th>\n",
       "    </tr>\n",
       "  </thead>\n",
       "  <tbody>\n",
       "    <tr>\n",
       "      <th>0</th>\n",
       "      <td>2023</td>\n",
       "      <td>B001</td>\n",
       "      <td>1</td>\n",
       "      <td>37,273,918</td>\n",
       "      <td>36.52</td>\n",
       "      <td>1,034,926,967</td>\n",
       "      <td>4,489</td>\n",
       "    </tr>\n",
       "    <tr>\n",
       "      <th>1</th>\n",
       "      <td>2023</td>\n",
       "      <td>B001</td>\n",
       "      <td>2</td>\n",
       "      <td>16,598,375</td>\n",
       "      <td>40.55</td>\n",
       "      <td>1,000,446,165</td>\n",
       "      <td>4,430</td>\n",
       "    </tr>\n",
       "    <tr>\n",
       "      <th>2</th>\n",
       "      <td>2023</td>\n",
       "      <td>B001</td>\n",
       "      <td>3</td>\n",
       "      <td>39,612,502</td>\n",
       "      <td>36.28</td>\n",
       "      <td>1,003,625,950</td>\n",
       "      <td>4,425</td>\n",
       "    </tr>\n",
       "    <tr>\n",
       "      <th>3</th>\n",
       "      <td>2023</td>\n",
       "      <td>B001</td>\n",
       "      <td>4</td>\n",
       "      <td>103,081,919</td>\n",
       "      <td>33.96</td>\n",
       "      <td>985,537,794</td>\n",
       "      <td>4,238</td>\n",
       "    </tr>\n",
       "    <tr>\n",
       "      <th>4</th>\n",
       "      <td>2023</td>\n",
       "      <td>B001</td>\n",
       "      <td>5</td>\n",
       "      <td>156,599,338</td>\n",
       "      <td>34.00</td>\n",
       "      <td>1,204,251,784</td>\n",
       "      <td>5,097</td>\n",
       "    </tr>\n",
       "  </tbody>\n",
       "</table>\n",
       "</div>"
      ],
      "text/plain": [
       "   Year Store_code  Month      Cash_UC  Employee      net_sales transaction\n",
       "0  2023       B001      1   37,273,918     36.52  1,034,926,967       4,489\n",
       "1  2023       B001      2   16,598,375     40.55  1,000,446,165       4,430\n",
       "2  2023       B001      3   39,612,502     36.28  1,003,625,950       4,425\n",
       "3  2023       B001      4  103,081,919     33.96    985,537,794       4,238\n",
       "4  2023       B001      5  156,599,338     34.00  1,204,251,784       5,097"
      ]
     },
     "execution_count": 16,
     "metadata": {},
     "output_type": "execute_result"
    }
   ],
   "source": [
    "new_df_final = pd.merge(df_transformed_cash_uc, df_transform_employee)\n",
    "new_df_final2 = pd.merge(new_df_final, df_transform_sales)\n",
    "new_df_final3 = pd.merge(new_df_final2, df_transform_transaction)\n",
    "new_df_final3.head()"
   ]
  },
  {
   "cell_type": "code",
   "execution_count": 18,
   "id": "0c466072-ee84-48b2-9d2e-5d255c9ad35a",
   "metadata": {
    "tags": []
   },
   "outputs": [],
   "source": [
    "new_df_final3['Year'] = new_df_final3['Year'].astype('int64')"
   ]
  },
  {
   "cell_type": "code",
   "execution_count": 19,
   "id": "975019f6-dc6a-42c8-8015-d81b1c380d43",
   "metadata": {
    "tags": []
   },
   "outputs": [
    {
     "data": {
      "text/html": [
       "<div>\n",
       "<style scoped>\n",
       "    .dataframe tbody tr th:only-of-type {\n",
       "        vertical-align: middle;\n",
       "    }\n",
       "\n",
       "    .dataframe tbody tr th {\n",
       "        vertical-align: top;\n",
       "    }\n",
       "\n",
       "    .dataframe thead th {\n",
       "        text-align: right;\n",
       "    }\n",
       "</style>\n",
       "<table border=\"1\" class=\"dataframe\">\n",
       "  <thead>\n",
       "    <tr style=\"text-align: right;\">\n",
       "      <th></th>\n",
       "      <th>Year</th>\n",
       "      <th>Store_code</th>\n",
       "      <th>Month</th>\n",
       "      <th>Cash_UC</th>\n",
       "      <th>Employee</th>\n",
       "      <th>net_sales</th>\n",
       "      <th>transaction</th>\n",
       "      <th>periode</th>\n",
       "    </tr>\n",
       "  </thead>\n",
       "  <tbody>\n",
       "    <tr>\n",
       "      <th>0</th>\n",
       "      <td>2023</td>\n",
       "      <td>B001</td>\n",
       "      <td>1</td>\n",
       "      <td>37,273,918</td>\n",
       "      <td>36.52</td>\n",
       "      <td>1,034,926,967</td>\n",
       "      <td>4,489</td>\n",
       "      <td>2023-01-01</td>\n",
       "    </tr>\n",
       "    <tr>\n",
       "      <th>1</th>\n",
       "      <td>2023</td>\n",
       "      <td>B001</td>\n",
       "      <td>2</td>\n",
       "      <td>16,598,375</td>\n",
       "      <td>40.55</td>\n",
       "      <td>1,000,446,165</td>\n",
       "      <td>4,430</td>\n",
       "      <td>2023-02-01</td>\n",
       "    </tr>\n",
       "    <tr>\n",
       "      <th>2</th>\n",
       "      <td>2023</td>\n",
       "      <td>B001</td>\n",
       "      <td>3</td>\n",
       "      <td>39,612,502</td>\n",
       "      <td>36.28</td>\n",
       "      <td>1,003,625,950</td>\n",
       "      <td>4,425</td>\n",
       "      <td>2023-03-01</td>\n",
       "    </tr>\n",
       "    <tr>\n",
       "      <th>3</th>\n",
       "      <td>2023</td>\n",
       "      <td>B001</td>\n",
       "      <td>4</td>\n",
       "      <td>103,081,919</td>\n",
       "      <td>33.96</td>\n",
       "      <td>985,537,794</td>\n",
       "      <td>4,238</td>\n",
       "      <td>2023-04-01</td>\n",
       "    </tr>\n",
       "    <tr>\n",
       "      <th>4</th>\n",
       "      <td>2023</td>\n",
       "      <td>B001</td>\n",
       "      <td>5</td>\n",
       "      <td>156,599,338</td>\n",
       "      <td>34.00</td>\n",
       "      <td>1,204,251,784</td>\n",
       "      <td>5,097</td>\n",
       "      <td>2023-05-01</td>\n",
       "    </tr>\n",
       "  </tbody>\n",
       "</table>\n",
       "</div>"
      ],
      "text/plain": [
       "   Year Store_code  Month      Cash_UC  Employee      net_sales transaction  \\\n",
       "0  2023       B001      1   37,273,918     36.52  1,034,926,967       4,489   \n",
       "1  2023       B001      2   16,598,375     40.55  1,000,446,165       4,430   \n",
       "2  2023       B001      3   39,612,502     36.28  1,003,625,950       4,425   \n",
       "3  2023       B001      4  103,081,919     33.96    985,537,794       4,238   \n",
       "4  2023       B001      5  156,599,338     34.00  1,204,251,784       5,097   \n",
       "\n",
       "     periode  \n",
       "0 2023-01-01  \n",
       "1 2023-02-01  \n",
       "2 2023-03-01  \n",
       "3 2023-04-01  \n",
       "4 2023-05-01  "
      ]
     },
     "execution_count": 19,
     "metadata": {},
     "output_type": "execute_result"
    }
   ],
   "source": [
    "if all(col in new_df_final3.columns for col in ['Year', 'Month']):\n",
    "    new_df_final3['periode'] = pd.to_datetime(new_df_final3[['Year', 'Month']].assign(day=1))\n",
    "else:\n",
    "    print(\"Error: Columns 'Year' and 'Month' are not present in the DataFrame.\")\n",
    "    \n",
    "new_df_final3.head()"
   ]
  },
  {
   "cell_type": "code",
   "execution_count": 20,
   "id": "4788e1c9-fb1a-4933-89fb-446e61dea0d0",
   "metadata": {
    "tags": []
   },
   "outputs": [],
   "source": [
    "new_df_final3.to_csv('Dataset/data_4_monthly/Hasil_Bersih/monthly_tracking_2023_ver6.csv', header = True, index = False)"
   ]
  },
  {
   "cell_type": "code",
   "execution_count": 21,
   "id": "5dd71489-1519-482a-8913-f03783d18e0c",
   "metadata": {
    "tags": []
   },
   "outputs": [],
   "source": [
    "monthly_track_2022 = pd.read_csv(\"Dataset/data_4_monthly/Hasil_Bersih/monthly_tracking_2022_ver3.csv\")\n",
    "monthly_track_2023 = pd.read_csv(\"Dataset/data_4_monthly/Hasil_Bersih/monthly_tracking_2023_ver6.csv\")"
   ]
  },
  {
   "cell_type": "code",
   "execution_count": 26,
   "id": "958fbc1e-f795-4748-8958-2b3475b2a11e",
   "metadata": {
    "tags": []
   },
   "outputs": [
    {
     "name": "stdout",
     "output_type": "stream",
     "text": [
      "full shape = (15216, 8)\n"
     ]
    }
   ],
   "source": [
    "full_file = pd.concat([monthly_track_2022, monthly_track_2023], ignore_index=True)\n",
    "print(\"full shape =\", full_file.shape)"
   ]
  },
  {
   "cell_type": "code",
   "execution_count": 28,
   "id": "64e96bea-41c8-41be-a776-a1f185a84be9",
   "metadata": {
    "tags": []
   },
   "outputs": [],
   "source": [
    "full_file['periode'] = full_file['periode'].astype('datetime64[ns]')"
   ]
  },
  {
   "cell_type": "code",
   "execution_count": 29,
   "id": "ab19bd19-899f-4c10-a519-0c55e71cadf8",
   "metadata": {
    "tags": []
   },
   "outputs": [
    {
     "data": {
      "text/html": [
       "<div>\n",
       "<style scoped>\n",
       "    .dataframe tbody tr th:only-of-type {\n",
       "        vertical-align: middle;\n",
       "    }\n",
       "\n",
       "    .dataframe tbody tr th {\n",
       "        vertical-align: top;\n",
       "    }\n",
       "\n",
       "    .dataframe thead th {\n",
       "        text-align: right;\n",
       "    }\n",
       "</style>\n",
       "<table border=\"1\" class=\"dataframe\">\n",
       "  <thead>\n",
       "    <tr style=\"text-align: right;\">\n",
       "      <th></th>\n",
       "      <th>Year</th>\n",
       "      <th>Store_code</th>\n",
       "      <th>Month</th>\n",
       "      <th>Cash_UC</th>\n",
       "      <th>Employee</th>\n",
       "      <th>net_sales</th>\n",
       "      <th>transaction</th>\n",
       "      <th>periode</th>\n",
       "    </tr>\n",
       "  </thead>\n",
       "  <tbody>\n",
       "  </tbody>\n",
       "</table>\n",
       "</div>"
      ],
      "text/plain": [
       "Empty DataFrame\n",
       "Columns: [Year, Store_code, Month, Cash_UC, Employee, net_sales, transaction, periode]\n",
       "Index: []"
      ]
     },
     "execution_count": 29,
     "metadata": {},
     "output_type": "execute_result"
    }
   ],
   "source": [
    "full_file[full_file.isna().any(axis=1)]"
   ]
  },
  {
   "cell_type": "code",
   "execution_count": 30,
   "id": "b839423b-dd73-4868-b28c-73dba8b6d51e",
   "metadata": {
    "tags": []
   },
   "outputs": [],
   "source": [
    "full_file.to_csv(\"Dataset/data_4_monthly/Hasil_Bersih/monthly_tracking_full_file_ver6.csv\", \n",
    "                 header = True, index = False)"
   ]
  },
  {
   "cell_type": "code",
   "execution_count": null,
   "id": "7ba42f91-72c6-482a-8fe5-6f507f511f95",
   "metadata": {},
   "outputs": [],
   "source": []
  }
 ],
 "metadata": {
  "kernelspec": {
   "display_name": "Python 3 (ipykernel)",
   "language": "python",
   "name": "python3"
  },
  "language_info": {
   "codemirror_mode": {
    "name": "ipython",
    "version": 3
   },
   "file_extension": ".py",
   "mimetype": "text/x-python",
   "name": "python",
   "nbconvert_exporter": "python",
   "pygments_lexer": "ipython3",
   "version": "3.11.4"
  }
 },
 "nbformat": 4,
 "nbformat_minor": 5
}
